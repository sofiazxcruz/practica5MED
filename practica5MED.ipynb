{
 "cells": [
  {
   "cell_type": "code",
   "execution_count": 1,
   "metadata": {},
   "outputs": [
    {
     "name": "stdout",
     "output_type": "stream",
     "text": [
      "La suma de los números ingresados es: 116.0\n"
     ]
    }
   ],
   "source": [
    "#ejercicio 1\n",
    "def suma(*numeros):\n",
    "    resultado = sum(numeros)\n",
    "    return resultado\n",
    "\n",
    "n = int(input(\"Ingrese cuántos números desea sumar: \"))\n",
    "numeros_a_sumar = []\n",
    "\n",
    "for i in range(n):\n",
    "    numero = float(input(f\"Ingrese el número {i + 1}: \"))\n",
    "    numeros_a_sumar.append(numero)\n",
    "\n",
    "total = suma(*numeros_a_sumar)\n",
    "\n",
    "print(f\"La suma de los números ingresados es: {total}\")\n"
   ]
  },
  {
   "cell_type": "code",
   "execution_count": null,
   "metadata": {},
   "outputs": [],
   "source": [
    "#ejericio 2\n",
    "def calcular_raiz(numero, n):\n",
    "    if numero < 0 and n % 2 == 0:\n",
    "        raise ValueError(\"No se puede calcular la raíz par de un número negativo.\")\n",
    "    return numero ** (1/n)\n",
    "\n",
    "numero = float(input(\"Ingrese el número: \"))\n",
    "n = int(input(\"Ingrese el valor de n para la raíz: \"))\n",
    "\n",
    "resultado = calcular_raiz(numero, n)\n",
    "print(f\"La raíz {n}-ésima de {numero} es: {resultado}\")\n"
   ]
  },
  {
   "cell_type": "code",
   "execution_count": null,
   "metadata": {},
   "outputs": [],
   "source": [
    "#ejercicio 3\n",
    "def division_segura(numerador, denominador):\n",
    "    if denominador == 0:\n",
    "        print(\"La división entre cero no está definida.\")\n",
    "    else:\n",
    "        resultado = numerador / denominador\n",
    "        print(f\"El resultado de la división es: {resultado}\")\n",
    "\n",
    "numerador = float(input(\"Ingrese el numerador: \"))\n",
    "denominador = float(input(\"Ingrese el denominador: \"))\n",
    "\n",
    "division_segura(numerador, denominador)\n"
   ]
  },
  {
   "cell_type": "code",
   "execution_count": null,
   "metadata": {},
   "outputs": [],
   "source": [
    "#ejercicio 4\n",
    "def ingresar_datos(n):\n",
    "    datos = []\n",
    "    for _ in range(n):\n",
    "        valor = float(input(\"Ingrese un dato: \"))\n",
    "        datos.append(valor)\n",
    "    return datos\n",
    "\n",
    "def ordenar_lista(lista):\n",
    "    n = len(lista)\n",
    "    for i in range(n):\n",
    "        for j in range(0, n-i-1):\n",
    "            if lista[j] > lista[j+1]:\n",
    "                lista[j], lista[j+1] = lista[j+1], lista[j]\n",
    "\n",
    "def calcular_sumatoria(lista):\n",
    "    suma = 0\n",
    "    for valor in lista:\n",
    "        suma += valor\n",
    "    return suma\n",
    "\n",
    "def calcular_media(lista):\n",
    "    suma = calcular_sumatoria(lista)\n",
    "    n = len(lista)\n",
    "    media = suma / n\n",
    "    return media\n",
    "\n",
    "def calcular_mediana(lista):\n",
    "    n = len(lista)\n",
    "    ordenar_lista(lista)\n",
    "    if n % 2 == 0:\n",
    "        medio1 = lista[n//2 - 1]\n",
    "        medio2 = lista[n//2]\n",
    "        mediana = (medio1 + medio2) / 2\n",
    "    else:\n",
    "        mediana = lista[n//2]\n",
    "    return mediana\n",
    "\n",
    "def calcular_moda(lista):\n",
    "    conteo = {}\n",
    "    for valor in lista:\n",
    "        if valor in conteo:\n",
    "            conteo[valor] += 1\n",
    "        else:\n",
    "            conteo[valor] = 1\n",
    "\n",
    "    moda = []\n",
    "    max_apariciones = max(conteo.values())\n",
    "    for clave, valor in conteo.items():\n",
    "        if valor == max_apariciones:\n",
    "            moda.append(clave)\n",
    "\n",
    "    return moda\n",
    "\n",
    "import math\n",
    "\n",
    "def calcular_desviacion_estandar(lista):\n",
    "    media = calcular_media(lista)\n",
    "    n = len(lista)\n",
    "    suma_de_cuadrados = 0\n",
    "    for valor in lista:\n",
    "        suma_de_cuadrados += (valor - media) ** 2\n",
    "    desviacion_estandar = math.sqrt(suma_de_cuadrados / (n - 1))\n",
    "    return desviacion_estandar\n",
    "\n",
    "n = int(input(\"Ingrese la cantidad de datos: \"))\n",
    "datos = ingresar_datos(n)\n",
    "\n",
    "print(\"Datos ingresados:\", datos)\n",
    "print(\"Datos ordenados de menor a mayor:\", datos)\n",
    "print(\"Sumatoria de los datos:\", calcular_sumatoria(datos))\n",
    "print(\"Media de los datos:\", calcular_media(datos))\n",
    "print(\"Mediana de los datos:\", calcular_mediana(datos))\n",
    "print(\"Moda de los datos:\", calcular_moda(datos))\n",
    "print(\"Desviación estándar de los datos:\", calcular_desviacion_estandar(datos))\n"
   ]
  }
 ],
 "metadata": {
  "kernelspec": {
   "display_name": "Python 3",
   "language": "python",
   "name": "python3"
  },
  "language_info": {
   "codemirror_mode": {
    "name": "ipython",
    "version": 3
   },
   "file_extension": ".py",
   "mimetype": "text/x-python",
   "name": "python",
   "nbconvert_exporter": "python",
   "pygments_lexer": "ipython3",
   "version": "3.11.2"
  },
  "orig_nbformat": 4
 },
 "nbformat": 4,
 "nbformat_minor": 2
}
